{
  "nbformat": 4,
  "nbformat_minor": 0,
  "metadata": {
    "colab": {
      "provenance": [],
      "authorship_tag": "ABX9TyOhEb7XPl5JaDPBH1ki0UmA",
      "include_colab_link": true
    },
    "kernelspec": {
      "name": "python3",
      "display_name": "Python 3"
    },
    "language_info": {
      "name": "python"
    }
  },
  "cells": [
    {
      "cell_type": "markdown",
      "metadata": {
        "id": "view-in-github",
        "colab_type": "text"
      },
      "source": [
        "<a href=\"https://colab.research.google.com/github/webremake/video-transcription/blob/main/%D0%97%D0%B0%D0%B3%D1%80%D1%83%D0%B7%D0%BA%D0%B0_%D0%B2%D0%B8%D0%B4%D0%B5%D0%BE_%D0%B8_%D0%B0%D1%83%D0%B4%D0%B8%D0%BE_%D0%BF%D0%BE_%D1%81%D1%81%D1%8B%D0%BB%D0%BA%D0%B5_%D0%BD%D0%B0_YouTube.ipynb\" target=\"_parent\"><img src=\"https://colab.research.google.com/assets/colab-badge.svg\" alt=\"Open In Colab\"/></a>"
      ]
    },
    {
      "cell_type": "markdown",
      "source": [
        "Источник https://habr.com/ru/articles/870110/#habracut\n",
        "\n"
      ],
      "metadata": {
        "id": "oAOJ2R1M8RgB"
      }
    },
    {
      "cell_type": "markdown",
      "source": [
        "# Скачиваем видео с самым лучшим разрешением которое содержит и аудио и видео"
      ],
      "metadata": {
        "id": "Di5pCBO3GGBj"
      }
    },
    {
      "cell_type": "code",
      "source": [
        "from pytubefix import YouTube\n",
        "\n",
        "def download_video_with_audio(url):\n",
        "    \"\"\"\n",
        "    Функция для скачивания видео с YouTube в самом высоком доступном разрешении,\n",
        "    которое включает аудио и видео.\n",
        "\n",
        "    :param url: str, URL видео на YouTube\n",
        "    \"\"\"\n",
        "    def on_progress(stream, chunk, bytes_remaining):\n",
        "        total_size = stream.filesize\n",
        "        bytes_downloaded = total_size - bytes_remaining\n",
        "        percentage = (bytes_downloaded / total_size) * 100\n",
        "        print(f\"Скачивание: {percentage:.2f}%\")\n",
        "\n",
        "    try:\n",
        "        # Создаем объект YouTube\n",
        "        video = YouTube(url, on_progress_callback=on_progress)\n",
        "\n",
        "        print(f\"Название видео: {video.title}\")\n",
        "\n",
        "        # Выбираем поток с самым высоким разрешением (видео и аудио)\n",
        "        stream = video.streams.get_highest_resolution()\n",
        "\n",
        "        print(f\"Загрузка видео в разрешении {stream.resolution}...\")\n",
        "        stream.download()\n",
        "        print(\"Видео успешно загружено!\")\n",
        "    except Exception as e:\n",
        "        print(f\"Ошибка при загрузке видео: {e}\")\n",
        "\n",
        "# Основной код\n",
        "if __name__ == \"__main__\":\n",
        "    video_url = input(\"Введите URL видео YouTube: \")\n",
        "    download_video_with_audio(video_url)"
      ],
      "metadata": {
        "colab": {
          "base_uri": "https://localhost:8080/"
        },
        "id": "odbyyrNNiT8z",
        "outputId": "601e47ea-b358-48a2-bb3d-dfc44ff64fc5"
      },
      "execution_count": 61,
      "outputs": [
        {
          "output_type": "stream",
          "name": "stdout",
          "text": [
            "Введите URL видео YouTube: https://youtu.be/kk6Rir_-sJ4?feature=shared\n",
            "Название видео: Секундомер - 1 минута (одна минута)    Stopwatch - 1 minute (one minute)\n",
            "Загрузка видео в разрешении 360p...\n",
            "Скачивание: 100.00%\n",
            "Видео успешно загружено!\n"
          ]
        }
      ]
    },
    {
      "cell_type": "markdown",
      "source": [
        "# Скачиваем аудио"
      ],
      "metadata": {
        "id": "rsWKhXEkFeZC"
      }
    },
    {
      "cell_type": "code",
      "source": [
        "import os\n",
        "from pytubefix import YouTube\n",
        "\n",
        "def download_and_convert_audio(url):\n",
        "    \"\"\"\n",
        "    Скачивает аудио с YouTube, затем конвертирует его в формат MP3 с использованием ffmpeg.\n",
        "\n",
        "    :param url: str, URL видео на YouTube\n",
        "    \"\"\"\n",
        "    def on_progress(stream, chunk, bytes_remaining):\n",
        "        total_size = stream.filesize\n",
        "        bytes_downloaded = total_size - bytes_remaining\n",
        "        percentage = (bytes_downloaded / total_size) * 100\n",
        "        print(f\"Скачивание: {percentage:.2f}%\")\n",
        "\n",
        "    try:\n",
        "        # Создаём объект YouTube\n",
        "        video = YouTube(url, on_progress_callback=on_progress)\n",
        "\n",
        "        print(f\"Название видео: {video.title}\")\n",
        "\n",
        "        # Выбираем аудиопоток\n",
        "        audio_stream = video.streams.filter(only_audio=True).order_by(\"abr\").desc().first()\n",
        "        print(f\"Скачивание аудио с битрейтом {audio_stream.abr}...\")\n",
        "\n",
        "        # Скачиваем аудио в формате m4a\n",
        "        temp_filename = audio_stream.download(filename=\"temp_audio.m4a\")\n",
        "        print(f\"Аудио скачано как {temp_filename}\")\n",
        "\n",
        "        # Устанавливаем конечное имя для MP3\n",
        "        output_filename = f\"{video.title}.mp3\".replace(\"/\", \"_\")  # Убираем недопустимые символы\n",
        "\n",
        "        # Конвертация с помощью ffmpeg\n",
        "        print(f\"Конвертация аудио в {output_filename}...\")\n",
        "        os.system(f'ffmpeg -i \"temp_audio.m4a\" -c:a libmp3lame -q:a 2 \"{output_filename}\"')\n",
        "\n",
        "        # Удаляем временный файл\n",
        "        os.remove(\"temp_audio.m4a\")\n",
        "        print(f\"Аудио успешно конвертировано и сохранено как {output_filename}!\")\n",
        "    except Exception as e:\n",
        "        print(f\"Ошибка при обработке: {e}\")\n",
        "\n",
        "# Основной код\n",
        "if __name__ == \"__main__\":\n",
        "    video_url = input(\"Введите URL видео YouTube: \")\n",
        "    download_and_convert_audio(video_url)"
      ],
      "metadata": {
        "colab": {
          "base_uri": "https://localhost:8080/"
        },
        "id": "YmXnJeLGFkAq",
        "outputId": "2ab21c31-3c91-4eb9-e486-8d0cc9ee4072"
      },
      "execution_count": 62,
      "outputs": [
        {
          "output_type": "stream",
          "name": "stdout",
          "text": [
            "Введите URL видео YouTube: https://youtu.be/kk6Rir_-sJ4?feature=shared\n",
            "Название видео: Секундомер - 1 минута (одна минута)    Stopwatch - 1 minute (one minute)\n",
            "Скачивание аудио с битрейтом 160kbps...\n",
            "Скачивание: 100.00%\n",
            "Аудио скачано как /content/temp_audio.m4a\n",
            "Конвертация аудио в Секундомер - 1 минута (одна минута)    Stopwatch - 1 minute (one minute).mp3...\n",
            "Аудио успешно конвертировано и сохранено как Секундомер - 1 минута (одна минута)    Stopwatch - 1 minute (one minute).mp3!\n"
          ]
        }
      ]
    },
    {
      "cell_type": "markdown",
      "source": [
        "# Скачиваем видео в высоком разрешении со звуком"
      ],
      "metadata": {
        "id": "6gD8Gs3GG5L4"
      }
    },
    {
      "cell_type": "code",
      "source": [
        "!apt-get install ffmpeg"
      ],
      "metadata": {
        "colab": {
          "base_uri": "https://localhost:8080/"
        },
        "id": "a1lyp19YQUlJ",
        "outputId": "8a74c6e8-4198-4f03-ad9e-f498a9e0b87f"
      },
      "execution_count": 63,
      "outputs": [
        {
          "output_type": "stream",
          "name": "stdout",
          "text": [
            "Reading package lists... Done\n",
            "Building dependency tree... Done\n",
            "Reading state information... Done\n",
            "ffmpeg is already the newest version (7:4.4.2-0ubuntu0.22.04.1).\n",
            "0 upgraded, 0 newly installed, 0 to remove and 49 not upgraded.\n"
          ]
        }
      ]
    },
    {
      "cell_type": "code",
      "source": [
        "!ffmpeg -version"
      ],
      "metadata": {
        "colab": {
          "base_uri": "https://localhost:8080/"
        },
        "id": "bedb4zAsKcjT",
        "outputId": "2815fd9b-1fb0-4cdc-c1cd-da32299d2f88"
      },
      "execution_count": 64,
      "outputs": [
        {
          "output_type": "stream",
          "name": "stdout",
          "text": [
            "ffmpeg version 4.4.2-0ubuntu0.22.04.1 Copyright (c) 2000-2021 the FFmpeg developers\n",
            "built with gcc 11 (Ubuntu 11.2.0-19ubuntu1)\n",
            "configuration: --prefix=/usr --extra-version=0ubuntu0.22.04.1 --toolchain=hardened --libdir=/usr/lib/x86_64-linux-gnu --incdir=/usr/include/x86_64-linux-gnu --arch=amd64 --enable-gpl --disable-stripping --enable-gnutls --enable-ladspa --enable-libaom --enable-libass --enable-libbluray --enable-libbs2b --enable-libcaca --enable-libcdio --enable-libcodec2 --enable-libdav1d --enable-libflite --enable-libfontconfig --enable-libfreetype --enable-libfribidi --enable-libgme --enable-libgsm --enable-libjack --enable-libmp3lame --enable-libmysofa --enable-libopenjpeg --enable-libopenmpt --enable-libopus --enable-libpulse --enable-librabbitmq --enable-librubberband --enable-libshine --enable-libsnappy --enable-libsoxr --enable-libspeex --enable-libsrt --enable-libssh --enable-libtheora --enable-libtwolame --enable-libvidstab --enable-libvorbis --enable-libvpx --enable-libwebp --enable-libx265 --enable-libxml2 --enable-libxvid --enable-libzimg --enable-libzmq --enable-libzvbi --enable-lv2 --enable-omx --enable-openal --enable-opencl --enable-opengl --enable-sdl2 --enable-pocketsphinx --enable-librsvg --enable-libmfx --enable-libdc1394 --enable-libdrm --enable-libiec61883 --enable-chromaprint --enable-frei0r --enable-libx264 --enable-shared\n",
            "libavutil      56. 70.100 / 56. 70.100\n",
            "libavcodec     58.134.100 / 58.134.100\n",
            "libavformat    58. 76.100 / 58. 76.100\n",
            "libavdevice    58. 13.100 / 58. 13.100\n",
            "libavfilter     7.110.100 /  7.110.100\n",
            "libswscale      5.  9.100 /  5.  9.100\n",
            "libswresample   3.  9.100 /  3.  9.100\n",
            "libpostproc    55.  9.100 / 55.  9.100\n"
          ]
        }
      ]
    },
    {
      "cell_type": "code",
      "source": [
        "!which ffmpeg"
      ],
      "metadata": {
        "colab": {
          "base_uri": "https://localhost:8080/"
        },
        "id": "fIo8tEVKQjCY",
        "outputId": "99696670-f023-4193-fd42-e6845fbe9a42"
      },
      "execution_count": 65,
      "outputs": [
        {
          "output_type": "stream",
          "name": "stdout",
          "text": [
            "/usr/bin/ffmpeg\n"
          ]
        }
      ]
    },
    {
      "cell_type": "code",
      "source": [
        "!export PATH=$PATH:/usr/bin"
      ],
      "metadata": {
        "id": "NONlaWTMMeiE"
      },
      "execution_count": 66,
      "outputs": []
    },
    {
      "cell_type": "code",
      "source": [
        "!echo $PATH"
      ],
      "metadata": {
        "colab": {
          "base_uri": "https://localhost:8080/"
        },
        "id": "h2jc5zRmQ60D",
        "outputId": "84cd54ee-a8cf-4c0a-e8ab-b010e47d9a6f"
      },
      "execution_count": 60,
      "outputs": [
        {
          "output_type": "stream",
          "name": "stdout",
          "text": [
            "/opt/bin:/usr/local/nvidia/bin:/usr/local/cuda/bin:/usr/local/sbin:/usr/local/bin:/usr/sbin:/usr/bin:/sbin:/bin:/tools/node/bin:/tools/google-cloud-sdk/bin\n"
          ]
        }
      ]
    },
    {
      "cell_type": "code",
      "source": [
        "import os\n",
        "from pytubefix import YouTube\n",
        "\n",
        "def download_highest_resolution_video_and_audio(url, output_dir=\"downloads\"):\n",
        "    \"\"\"\n",
        "    Скачивает видео и аудио с YouTube, объединяет их в один файл, а выходной файл получает название видео.\n",
        "\n",
        "    :param url: str, URL видео на YouTube\n",
        "    :param output_dir: str, путь к директории для сохранения файлов\n",
        "    :return: str, путь к объединённому видеофайлу\n",
        "    \"\"\"\n",
        "    # Создаем директорию для сохранения файлов, если её нет\n",
        "    os.makedirs(output_dir, exist_ok=True)\n",
        "\n",
        "    # Создаем объект YouTube\n",
        "    yt = YouTube(url)\n",
        "    video_title = yt.title\n",
        "    safe_title = \"\".join(char if char.isalnum() or char in \" _-\" else \"_\" for char in video_title)\n",
        "    print(f\"Название видео: {video_title}\")\n",
        "\n",
        "    # Скачиваем видео в самом высоком разрешении\n",
        "    video_stream = yt.streams.filter(progressive=False, file_extension=\"mp4\", type=\"video\").order_by(\"resolution\").desc().first()\n",
        "    video_path = os.path.join(output_dir, \"video.mp4\")\n",
        "    video_stream.download(output_path=output_dir, filename=\"video.mp4\")\n",
        "    print(f\"Видео скачано: {video_path}\")\n",
        "\n",
        "    # Скачиваем аудио в самом высоком битрейте\n",
        "    audio_stream = yt.streams.filter(type=\"audio\").order_by(\"abr\").desc().first()\n",
        "    audio_path = os.path.join(output_dir, \"audio.m4a\")\n",
        "    audio_stream.download(output_path=output_dir, filename=\"audio.m4a\")\n",
        "    print(f\"Аудио скачано: {audio_path}\")\n",
        "\n",
        "    # Объединяем видео и аудио с правильными кодеками\n",
        "    output_filename = f\"{safe_title}.mp4\"\n",
        "    output_path = os.path.join(output_dir, output_filename)\n",
        "    os.system(f'ffmpeg -i \"{video_path}\" -i \"{audio_path}\" -c:v libx264 -crf 23 -preset fast -c:a aac -strict experimental -movflags +faststart \"{output_path}\"')\n",
        "    print(f\"Объединённое видео сохранено: {output_path}\")\n",
        "\n",
        "    # Удаляем временные файлы\n",
        "    os.remove(video_path)\n",
        "    os.remove(audio_path)\n",
        "    print(\"Временные файлы удалены.\")\n",
        "\n",
        "    return output_path\n",
        "\n",
        "# Пример использования\n",
        "if __name__ == \"__main__\":\n",
        "    video_url = input(\"Введите URL видео YouTube: \")\n",
        "    download_highest_resolution_video_and_audio(video_url)"
      ],
      "metadata": {
        "colab": {
          "base_uri": "https://localhost:8080/"
        },
        "id": "2qMnXc7SNmnf",
        "outputId": "538303ef-b944-4e45-f14f-44e6883b56b0"
      },
      "execution_count": 67,
      "outputs": [
        {
          "output_type": "stream",
          "name": "stdout",
          "text": [
            "Введите URL видео YouTube: https://youtu.be/kk6Rir_-sJ4?feature=shared\n",
            "Название видео: Секундомер - 1 минута (одна минута)    Stopwatch - 1 minute (one minute)\n",
            "Видео скачано: downloads/video.mp4\n",
            "Аудио скачано: downloads/audio.m4a\n",
            "Объединённое видео сохранено: downloads/Секундомер - 1 минута _одна минута_    Stopwatch - 1 minute _one minute_.mp4\n",
            "Временные файлы удалены.\n"
          ]
        }
      ]
    }
  ]
}